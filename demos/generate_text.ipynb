{
 "cells": [
  {
   "cell_type": "code",
   "execution_count": null,
   "metadata": {},
   "outputs": [],
   "source": [
    "%pip install -q maturin datasets transformers numpy pandas tokengrams"
   ]
  },
  {
   "cell_type": "code",
   "execution_count": null,
   "metadata": {},
   "outputs": [],
   "source": [
    "from tokengrams import MemmapIndex, tokenize_hf_dataset\n",
    "from datasets import load_dataset\n",
    "from transformers import AutoTokenizer"
   ]
  },
  {
   "cell_type": "code",
   "execution_count": null,
   "metadata": {},
   "outputs": [],
   "source": [
    "tokenizer = AutoTokenizer.from_pretrained(\"EleutherAI/pythia-160m\")\n",
    "tokenize_hf_dataset(\n",
    "    dataset=load_dataset(\"EleutherAI/lambada_openai\", \"en\"),\n",
    "    tokenizer=tokenizer,\n",
    "    output_path=\"lambada.bin\",\n",
    "    text_key=\"text\",\n",
    "    append_eod=False,\n",
    "    workers=1,\n",
    ")\n",
    "\n",
    "index = MemmapIndex.build('lambada.bin', 'lambada.idx', vocab=2**16, verbose=True)"
   ]
  },
  {
   "cell_type": "code",
   "execution_count": 4,
   "metadata": {},
   "outputs": [
    {
     "name": "stdout",
     "output_type": "stream",
     "text": [
      "Once upon a time, Salem, an older wolf I'd never known as a human, had been the omega of the Boundary Wood pack. But I had seen enough of Shelby when I was clawing my way through the meningitis to know that she had fallen low in Paul's eyes and thus low in the packI'm wearing rented skis, rented ski boots that feel weird and tight and make me walk funny, plus every other kind of snow gear my mom was able to convince me to put on. I drew the line at goggles, and I stuck the unflattering wool hat into my jacket pocket, but from the neck down every inch of me is covered and padded. I don't know if I can move, let alone skiAway from the water that had changed everything for me, that had changed the lives of all of Jace's close friends. None of us would ever be the same again. But I knew that I couldn't protect myself from that kind\n"
     ]
    }
   ],
   "source": [
    "sample = index.sample_unsmoothed(tokenizer.encode(\"Once\"), n=8, k=200, num_samples=1)[0]\n",
    "print(tokenizer.decode(sample))"
   ]
  }
 ],
 "metadata": {
  "kernelspec": {
   "display_name": "base",
   "language": "python",
   "name": "python3"
  },
  "language_info": {
   "codemirror_mode": {
    "name": "ipython",
    "version": 3
   },
   "file_extension": ".py",
   "mimetype": "text/x-python",
   "name": "python",
   "nbconvert_exporter": "python",
   "pygments_lexer": "ipython3",
   "version": "3.10.14"
  }
 },
 "nbformat": 4,
 "nbformat_minor": 2
}
