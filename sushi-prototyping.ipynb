{
 "cells": [
  {
   "cell_type": "code",
   "execution_count": 2,
   "metadata": {},
   "outputs": [],
   "source": [
    "from multiprocessing import Pool\n",
    "import numpy as np\n",
    "import os\n",
    "import pickle\n",
    "from tokengrams import MemmapIndex\n",
    "import time"
   ]
  },
  {
   "cell_type": "code",
   "execution_count": 5,
   "metadata": {},
   "outputs": [
    {
     "name": "stdout",
     "output_type": "stream",
     "text": [
      "Writing indices to disk...\n",
      "21.723409414291382\n",
      "Time elapsed: 746.438476ms\n",
      "Sorting indices...\n",
      "Time elapsed: 20.954787643s\n"
     ]
    }
   ],
   "source": [
    "# TODO loop over document sizes and plot\n",
    "# TODO benchmark on pile subsets for natural token dist\n",
    "# Two options: \n",
    "# export sushi suffix array under a new name then build and install a new tokengrams with maturin build\n",
    "# convert this to a rust test\n",
    "# the second will be annoying because MemmapIndex expects a python object. I have code to do this in another branch but it's a bit hacky.\n",
    "# the more rust fluent but risky way is to export this suffix array under a new name.\n",
    "# I will derisk this by making a minimal change to the api\n",
    "# Fake document.bin containing n tokens\n",
    "n_tokens = 40_000_000\n",
    "token_filename = \"document.bin\"\n",
    "table_filename = \"table.idx\"\n",
    "mmap = np.memmap(\n",
    "    token_filename, \n",
    "    dtype=np.uint16, \n",
    "    mode=\"w+\", \n",
    "    shape=(n_tokens // 2049, 2049)\n",
    ")\n",
    "mmap[:] = np.random.randint(0, 2 ** 16 - 1, size=(n_tokens // 2049, 2049))\n",
    "\n",
    "# Benchmark normal memmap suffix array\n",
    "start = time.time()\n",
    "index = MemmapIndex.build(token_filename, table_filename, verbose=True)\n",
    "print(time.time() - start)\n",
    "\n",
    "# Benchmark sushi memmap suffix array\n",
    "start = time.time()\n",
    "# import from other file as SushiMemmapIndex if rust allows\n",
    "# index = SushiMemmapIndex(token_filename, table_filename)\n",
    "print(time.time() - start)"
   ]
  },
  {
   "cell_type": "code",
   "execution_count": null,
   "metadata": {},
   "outputs": [],
   "source": [
    "FILE = \"/mnt/ssd-1/pile_preshuffled/deduped/document.bin\"\n",
    "\n",
    "# Compute number of elements in file\n",
    "el_size = np.dtype(np.uint16).itemsize\n",
    "numel = os.stat(FILE).st_size // el_size\n",
    "numel = 2 ** 30\n",
    "\n",
    "import matplotlib.pyplot as plt\n",
    "import os\n",
    "\n",
    "plt.plot(np.bincount(tokens[:1000_000_000]))\n",
    "plt.yscale(\"log\")\n",
    "\n",
    "FILE = \"/mnt/ssd-1/pile_preshuffled/deduped/document.bin\"\n",
    "numel = os.stat(FILE).st_size // np.dtype(np.uint16).itemsize"
   ]
  }
 ],
 "metadata": {
  "kernelspec": {
   "display_name": "Python 3",
   "language": "python",
   "name": "python3"
  },
  "language_info": {
   "codemirror_mode": {
    "name": "ipython",
    "version": 3
   },
   "file_extension": ".py",
   "mimetype": "text/x-python",
   "name": "python",
   "nbconvert_exporter": "python",
   "pygments_lexer": "ipython3",
   "version": "3.10.14"
  }
 },
 "nbformat": 4,
 "nbformat_minor": 2
}
